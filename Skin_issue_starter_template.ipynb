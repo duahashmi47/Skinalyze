{
 "cells": [
  {
   "cell_type": "code",
   "execution_count": 1,
   "id": "08c0ed26-624b-469b-9c12-c1c1e985c041",
   "metadata": {},
   "outputs": [],
   "source": [
    "import os\n",
    "import glob\n",
    "import random\n",
    "from PIL import Image\n",
    "import numpy as np\n",
    "import cv2\n",
    "from tqdm import tqdm\n",
    "from facenet_pytorch import MTCNN\n",
    "from segment_anything import sam_model_registry, SamAutomaticMaskGenerator\n",
    "import torch"
   ]
  },
  {
   "cell_type": "code",
   "execution_count": 2,
   "id": "f0686bd1-848c-4108-9400-e2877396c96f",
   "metadata": {},
   "outputs": [],
   "source": [
    "import concurrent.futures"
   ]
  },
  {
   "cell_type": "code",
   "execution_count": 3,
   "id": "63bffbb7-7500-41c3-acfc-df3dae5b70c3",
   "metadata": {},
   "outputs": [],
   "source": [
    "device = 'cuda' if torch.cuda.is_available() else 'cpu'\n",
    "mtcnn = MTCNN(keep_all=False, device=device)\n",
    "from segment_anything import sam_model_registry\n",
    "sam = sam_model_registry[\"vit_b\"](checkpoint=\"sam_vit_b_01ec64.pth\").to(device)\n",
    "mask_generator = SamAutomaticMaskGenerator(\n",
    "    sam,\n",
    "    points_per_side=16,  # less sampling = faster\n",
    "    pred_iou_thresh=0.9,\n",
    "    stability_score_thresh=0.95,\n",
    "    crop_n_layers=0,\n",
    "    min_mask_region_area=500  # ignore tiny masks\n",
    ")"
   ]
  },
  {
   "cell_type": "code",
   "execution_count": 5,
   "id": "55e4f4a9-1ea6-4c59-a4dc-9d3d4179f196",
   "metadata": {},
   "outputs": [],
   "source": [
    "from multiprocessing import Pool, cpu_count"
   ]
  },
  {
   "cell_type": "code",
   "execution_count": null,
   "id": "b0a5b60c-8d5d-4e0c-a1a2-a27834c72fd9",
   "metadata": {},
   "outputs": [
    {
     "name": "stderr",
     "output_type": "stream",
     "text": [
      "Processing train set:   4%|██                                                     | 39/1054 [35:21<20:38:28, 73.21s/it]"
     ]
    },
    {
     "name": "stdout",
     "output_type": "stream",
     "text": [
      "Error processing faces_dataset\\acne_Level_2\\levle2_97.jpg: An image must be set with .set_image(...) before mask prediction.\n"
     ]
    },
    {
     "name": "stderr",
     "output_type": "stream",
     "text": [
      "Processing train set:  17%|████████▊                                            | 175/1054 [2:41:38<6:31:23, 26.72s/it]"
     ]
    },
    {
     "name": "stdout",
     "output_type": "stream",
     "text": [
      "Error processing faces_dataset\\acne_Level_0\\levle0_371.jpg: An image must be set with .set_image(...) before mask prediction.\n"
     ]
    },
    {
     "name": "stderr",
     "output_type": "stream",
     "text": [
      "Processing train set:  20%|██████████▏                                         | 207/1054 [3:13:45<13:03:22, 55.49s/it]"
     ]
    },
    {
     "name": "stdout",
     "output_type": "stream",
     "text": [
      "Error processing faces_dataset\\acne_Level_0\\levle0_154.jpg: repeat_interleave() received an invalid combination of arguments - got (NoneType, int, dim=int), but expected one of:\n",
      " * (Tensor input, Tensor repeats, int dim, *, int output_size)\n",
      " * (Tensor repeats, *, int output_size)\n",
      "      didn't match because some of the keywords were incorrect: dim\n",
      " * (Tensor input, int repeats, int dim, *, int output_size)\n",
      "\n"
     ]
    },
    {
     "name": "stderr",
     "output_type": "stream",
     "text": [
      "Processing train set:  20%|██████████▋                                         | 216/1054 [3:24:50<14:05:40, 60.55s/it]"
     ]
    },
    {
     "name": "stdout",
     "output_type": "stream",
     "text": [
      "Error processing faces_dataset\\wrinkles\\000102.jpg: An image must be set with .set_image(...) before mask prediction.\n"
     ]
    },
    {
     "name": "stderr",
     "output_type": "stream",
     "text": [
      "Processing train set:  25%|████████████▋                                      | 261/1054 [7:35:22<72:21:13, 328.47s/it]"
     ]
    },
    {
     "name": "stdout",
     "output_type": "stream",
     "text": [
      "Error processing faces_dataset\\acne_Level_1\\levle1_623.jpg: An image must be set with .set_image(...) before mask prediction.\n"
     ]
    },
    {
     "name": "stderr",
     "output_type": "stream",
     "text": [
      "Processing train set:  47%|████████████████████████▏                           | 491/1054 [11:40:08<8:24:21, 53.75s/it]"
     ]
    },
    {
     "name": "stdout",
     "output_type": "stream",
     "text": [
      "Error processing faces_dataset\\acne_Level_1\\levle1_494.jpg: An image must be set with .set_image(...) before mask prediction.\n"
     ]
    },
    {
     "name": "stderr",
     "output_type": "stream",
     "text": [
      "Processing train set:  48%|█████████████████████████                           | 508/1054 [11:57:17<7:57:49, 52.51s/it]"
     ]
    },
    {
     "name": "stdout",
     "output_type": "stream",
     "text": [
      "Error processing faces_dataset\\dryness\\dry_4b06e68067862ee761ab_jpg.rf.52e7f8c3af0d6b1dd3e3f224b735fc18.jpg: An image must be set with .set_image(...) before mask prediction.\n"
     ]
    },
    {
     "name": "stderr",
     "output_type": "stream",
     "text": [
      "Processing train set:  52%|██████████████████████████▉                         | 545/1054 [12:23:25<4:42:08, 33.26s/it]"
     ]
    },
    {
     "name": "stdout",
     "output_type": "stream",
     "text": [
      "Error processing faces_dataset\\acne_Level_0\\levle0_69.jpg: An image must be set with .set_image(...) before mask prediction.\n"
     ]
    },
    {
     "name": "stderr",
     "output_type": "stream",
     "text": [
      "Processing train set:  58%|█████████████████████████████▉                      | 608/1054 [13:23:35<4:03:43, 32.79s/it]"
     ]
    },
    {
     "name": "stdout",
     "output_type": "stream",
     "text": [
      "Error processing faces_dataset\\wrinkles\\000235.jpg: repeat_interleave() received an invalid combination of arguments - got (NoneType, int, dim=int), but expected one of:\n",
      " * (Tensor input, Tensor repeats, int dim, *, int output_size)\n",
      " * (Tensor repeats, *, int output_size)\n",
      "      didn't match because some of the keywords were incorrect: dim\n",
      " * (Tensor input, int repeats, int dim, *, int output_size)\n",
      "\n"
     ]
    },
    {
     "name": "stderr",
     "output_type": "stream",
     "text": [
      "Processing train set:  61%|███████████████████████████████▋                    | 642/1054 [14:03:37<3:08:43, 27.48s/it]"
     ]
    },
    {
     "name": "stdout",
     "output_type": "stream",
     "text": [
      "Error processing faces_dataset\\acne_Level_1\\levle1_330.jpg: An image must be set with .set_image(...) before mask prediction.\n"
     ]
    },
    {
     "name": "stderr",
     "output_type": "stream",
     "text": [
      "Processing train set:  65%|█████████████████████████████████▌                  | 681/1054 [14:33:19<4:19:14, 41.70s/it]"
     ]
    },
    {
     "name": "stdout",
     "output_type": "stream",
     "text": [
      "Error processing faces_dataset\\acne_Level_2\\levle2_182.jpg: An image must be set with .set_image(...) before mask prediction.\n"
     ]
    },
    {
     "name": "stderr",
     "output_type": "stream",
     "text": [
      "Processing train set:  70%|████████████████████████████████████▎               | 735/1054 [15:31:31<7:34:33, 85.50s/it]"
     ]
    },
    {
     "name": "stdout",
     "output_type": "stream",
     "text": [
      "Error processing faces_dataset\\wrinkles\\000047.jpg: An image must be set with .set_image(...) before mask prediction.\n",
      "Error processing faces_dataset\\acne_Level_0\\levle0_227.jpg: An image must be set with .set_image(...) before mask prediction.\n"
     ]
    },
    {
     "name": "stderr",
     "output_type": "stream",
     "text": [
      "Processing train set:  70%|████████████████████████████████████▎               | 737/1054 [15:31:48<5:31:04, 62.66s/it]"
     ]
    }
   ],
   "source": [
    "CLASS_MAP = {\n",
    "    'wrinkles': 0,\n",
    "    'redness': 1,\n",
    "    'dryness': 2,\n",
    "    'acne_Level_0': 3,\n",
    "    'acne_Level_1': 4,\n",
    "    'acne_Level_2': 5,\n",
    "}\n",
    "\n",
    "# Heuristics\n",
    "def is_wrinkle(region, mask):\n",
    "    gray = cv2.cvtColor(region, cv2.COLOR_RGB2GRAY)\n",
    "    masked = cv2.bitwise_and(gray, gray, mask=mask.astype(np.uint8))\n",
    "    edges = cv2.Canny(masked, 100, 200)\n",
    "    return np.sum(edges > 0) / mask.sum() > 0.1\n",
    "\n",
    "def is_redness(region, mask):\n",
    "    r, g, b = region[:, :, 0], region[:, :, 1], region[:, :, 2]\n",
    "    redness = (r > 120) & ((r - g) > 20) & ((r - b) > 20)\n",
    "    return np.sum(redness & mask) > 200\n",
    "\n",
    "def is_dryness(region, mask):\n",
    "    gray = cv2.cvtColor(region, cv2.COLOR_RGB2GRAY)\n",
    "    masked = cv2.bitwise_and(gray, gray, mask=mask.astype(np.uint8))\n",
    "    return np.std(masked[mask]) < 18\n",
    "\n",
    "def get_acne_label(image_path):\n",
    "    for level in [\"acne_Level_0\", \"acne_Level_1\", \"acne_Level_2\"]:\n",
    "        if level in image_path:\n",
    "            return CLASS_MAP[level]\n",
    "    return None\n",
    "\n",
    "def mask_to_yolo(mask, label_id, img_w, img_h):\n",
    "    ys, xs = np.where(mask)\n",
    "    if len(xs) == 0 or len(ys) == 0:\n",
    "        return None\n",
    "    x_min, x_max, y_min, y_max = xs.min(), xs.max(), ys.min(), ys.max()\n",
    "    x_center, y_center = ((x_min + x_max) / 2) / img_w, ((y_min + y_max) / 2) / img_h\n",
    "    width, height = (x_max - x_min) / img_w, (y_max - y_min) / img_h\n",
    "    return f\"{label_id} {x_center:.6f} {y_center:.6f} {width:.6f} {height:.6f}\"\n",
    "\n",
    "def process_image(image_path):\n",
    "    try:\n",
    "        img = Image.open(image_path).convert('RGB')\n",
    "        img = img.resize((512, 512))\n",
    "        np_img = np.array(img)\n",
    "\n",
    "        masks = mask_generator.generate(np_img)\n",
    "        h, w = np_img.shape[:2]\n",
    "        yolo_annotations = []\n",
    "\n",
    "        for m in masks[:10]:\n",
    "            mask = m['segmentation']\n",
    "            region = cv2.bitwise_and(np_img, np_img, mask=mask.astype(np.uint8))\n",
    "\n",
    "            if is_wrinkle(np_img, mask):\n",
    "                yolo = mask_to_yolo(mask, CLASS_MAP['wrinkles'], w, h)\n",
    "                if yolo: yolo_annotations.append(yolo)\n",
    "\n",
    "            if is_redness(np_img, mask):\n",
    "                yolo = mask_to_yolo(mask, CLASS_MAP['redness'], w, h)\n",
    "                if yolo: yolo_annotations.append(yolo)\n",
    "\n",
    "            if is_dryness(np_img, mask):\n",
    "                yolo = mask_to_yolo(mask, CLASS_MAP['dryness'], w, h)\n",
    "                if yolo: yolo_annotations.append(yolo)\n",
    "\n",
    "        acne_label = get_acne_label(image_path)\n",
    "        if acne_label is not None:\n",
    "            yolo_annotations.append(f\"{acne_label} 0.5 0.5 1.0 1.0\")\n",
    "\n",
    "        return np_img, yolo_annotations\n",
    "    except Exception as e:\n",
    "        print(f\"Error processing {image_path}: {e}\")\n",
    "        return None, None\n",
    "\n",
    "def prepare_dataset(image_root='faces_dataset', output_root='yolo_dataset', split_ratio=0.8):\n",
    "    all_images = glob.glob(f\"{image_root}/**/*.jpg\", recursive=True)\n",
    "    random.shuffle(all_images)\n",
    "    split_idx = int(len(all_images) * split_ratio)\n",
    "    train_imgs, val_imgs = all_images[:split_idx], all_images[split_idx:]\n",
    "\n",
    "    for mode, images in zip(['train', 'val'], [train_imgs, val_imgs]):\n",
    "        img_dir = os.path.join(output_root, 'images', mode)\n",
    "        lbl_dir = os.path.join(output_root, 'labels', mode)\n",
    "        os.makedirs(img_dir, exist_ok=True)\n",
    "        os.makedirs(lbl_dir, exist_ok=True)\n",
    "\n",
    "        def process_and_save(img_path):\n",
    "            base = os.path.splitext(os.path.basename(img_path))[0]\n",
    "            out_img_path = os.path.join(img_dir, base + \".jpg\")\n",
    "            out_lbl_path = os.path.join(lbl_dir, base + \".txt\")\n",
    "            if os.path.exists(out_lbl_path):\n",
    "                return\n",
    "            try:\n",
    "                cropped_img, annotations = process_image(img_path)\n",
    "                if cropped_img is None or not annotations:\n",
    "                    return\n",
    "                Image.fromarray(cropped_img).save(out_img_path)\n",
    "                with open(out_lbl_path, 'w') as f:\n",
    "                    f.write(\"\\n\".join(annotations))\n",
    "            except Exception as e:\n",
    "                print(f\"Error in process_and_save({img_path}): {e}\")\n",
    "\n",
    "        with concurrent.futures.ThreadPoolExecutor(max_workers=4) as executor:\n",
    "            list(tqdm(executor.map(process_and_save, images), total=len(images), desc=f\"Processing {mode} set\"))\n",
    "            \n",
    "if __name__ == '__main__':\n",
    "   # Step 2: Label the face images\n",
    "    prepare_dataset(image_root='faces_dataset')"
   ]
  },
  {
   "cell_type": "code",
   "execution_count": 1,
   "id": "81348480-514f-4757-8e26-f11aac66bb48",
   "metadata": {},
   "outputs": [
    {
     "name": "stdout",
     "output_type": "stream",
     "text": [
      "Collecting ultralytics\n",
      "  Downloading ultralytics-8.3.116-py3-none-any.whl.metadata (37 kB)\n",
      "Requirement already satisfied: numpy<=2.1.1,>=1.23.0 in c:\\users\\hamad\\appdata\\local\\programs\\python\\python310\\lib\\site-packages (from ultralytics) (1.26.4)\n",
      "Requirement already satisfied: matplotlib>=3.3.0 in c:\\users\\hamad\\appdata\\local\\programs\\python\\python310\\lib\\site-packages (from ultralytics) (3.9.3)\n",
      "Requirement already satisfied: opencv-python>=4.6.0 in c:\\users\\hamad\\appdata\\local\\programs\\python\\python310\\lib\\site-packages (from ultralytics) (4.10.0.84)\n",
      "Requirement already satisfied: pillow>=7.1.2 in c:\\users\\hamad\\appdata\\local\\programs\\python\\python310\\lib\\site-packages (from ultralytics) (10.2.0)\n",
      "Requirement already satisfied: pyyaml>=5.3.1 in c:\\users\\hamad\\appdata\\local\\programs\\python\\python310\\lib\\site-packages (from ultralytics) (6.0.2)\n",
      "Requirement already satisfied: requests>=2.23.0 in c:\\users\\hamad\\appdata\\local\\programs\\python\\python310\\lib\\site-packages (from ultralytics) (2.32.3)\n",
      "Requirement already satisfied: scipy>=1.4.1 in c:\\users\\hamad\\appdata\\local\\programs\\python\\python310\\lib\\site-packages (from ultralytics) (1.14.1)\n",
      "Requirement already satisfied: torch>=1.8.0 in c:\\users\\hamad\\appdata\\local\\programs\\python\\python310\\lib\\site-packages (from ultralytics) (2.2.2)\n",
      "Requirement already satisfied: torchvision>=0.9.0 in c:\\users\\hamad\\appdata\\local\\programs\\python\\python310\\lib\\site-packages (from ultralytics) (0.17.2)\n",
      "Requirement already satisfied: tqdm>=4.64.0 in c:\\users\\hamad\\appdata\\local\\programs\\python\\python310\\lib\\site-packages (from ultralytics) (4.67.1)\n",
      "Requirement already satisfied: psutil in c:\\users\\hamad\\appdata\\local\\programs\\python\\python310\\lib\\site-packages (from ultralytics) (6.1.0)\n",
      "Collecting py-cpuinfo (from ultralytics)\n",
      "  Using cached py_cpuinfo-9.0.0-py3-none-any.whl.metadata (794 bytes)\n",
      "Requirement already satisfied: pandas>=1.1.4 in c:\\users\\hamad\\appdata\\local\\programs\\python\\python310\\lib\\site-packages (from ultralytics) (2.2.3)\n",
      "Requirement already satisfied: seaborn>=0.11.0 in c:\\users\\hamad\\appdata\\local\\programs\\python\\python310\\lib\\site-packages (from ultralytics) (0.13.2)\n",
      "Collecting ultralytics-thop>=2.0.0 (from ultralytics)\n",
      "  Downloading ultralytics_thop-2.0.14-py3-none-any.whl.metadata (9.4 kB)\n",
      "Requirement already satisfied: contourpy>=1.0.1 in c:\\users\\hamad\\appdata\\local\\programs\\python\\python310\\lib\\site-packages (from matplotlib>=3.3.0->ultralytics) (1.3.1)\n",
      "Requirement already satisfied: cycler>=0.10 in c:\\users\\hamad\\appdata\\local\\programs\\python\\python310\\lib\\site-packages (from matplotlib>=3.3.0->ultralytics) (0.12.1)\n",
      "Requirement already satisfied: fonttools>=4.22.0 in c:\\users\\hamad\\appdata\\local\\programs\\python\\python310\\lib\\site-packages (from matplotlib>=3.3.0->ultralytics) (4.55.2)\n",
      "Requirement already satisfied: kiwisolver>=1.3.1 in c:\\users\\hamad\\appdata\\local\\programs\\python\\python310\\lib\\site-packages (from matplotlib>=3.3.0->ultralytics) (1.4.7)\n",
      "Requirement already satisfied: packaging>=20.0 in c:\\users\\hamad\\appdata\\local\\programs\\python\\python310\\lib\\site-packages (from matplotlib>=3.3.0->ultralytics) (24.1)\n",
      "Requirement already satisfied: pyparsing>=2.3.1 in c:\\users\\hamad\\appdata\\local\\programs\\python\\python310\\lib\\site-packages (from matplotlib>=3.3.0->ultralytics) (3.2.0)\n",
      "Requirement already satisfied: python-dateutil>=2.7 in c:\\users\\hamad\\appdata\\local\\programs\\python\\python310\\lib\\site-packages (from matplotlib>=3.3.0->ultralytics) (2.9.0.post0)\n",
      "Requirement already satisfied: pytz>=2020.1 in c:\\users\\hamad\\appdata\\local\\programs\\python\\python310\\lib\\site-packages (from pandas>=1.1.4->ultralytics) (2024.2)\n",
      "Requirement already satisfied: tzdata>=2022.7 in c:\\users\\hamad\\appdata\\local\\programs\\python\\python310\\lib\\site-packages (from pandas>=1.1.4->ultralytics) (2024.2)\n",
      "Requirement already satisfied: charset-normalizer<4,>=2 in c:\\users\\hamad\\appdata\\local\\programs\\python\\python310\\lib\\site-packages (from requests>=2.23.0->ultralytics) (3.3.2)\n",
      "Requirement already satisfied: idna<4,>=2.5 in c:\\users\\hamad\\appdata\\local\\programs\\python\\python310\\lib\\site-packages (from requests>=2.23.0->ultralytics) (3.7)\n",
      "Requirement already satisfied: urllib3<3,>=1.21.1 in c:\\users\\hamad\\appdata\\local\\programs\\python\\python310\\lib\\site-packages (from requests>=2.23.0->ultralytics) (2.2.2)\n",
      "Requirement already satisfied: certifi>=2017.4.17 in c:\\users\\hamad\\appdata\\local\\programs\\python\\python310\\lib\\site-packages (from requests>=2.23.0->ultralytics) (2024.8.30)\n",
      "Requirement already satisfied: filelock in c:\\users\\hamad\\appdata\\local\\programs\\python\\python310\\lib\\site-packages (from torch>=1.8.0->ultralytics) (3.14.0)\n",
      "Requirement already satisfied: typing-extensions>=4.8.0 in c:\\users\\hamad\\appdata\\local\\programs\\python\\python310\\lib\\site-packages (from torch>=1.8.0->ultralytics) (4.12.2)\n",
      "Requirement already satisfied: sympy in c:\\users\\hamad\\appdata\\local\\programs\\python\\python310\\lib\\site-packages (from torch>=1.8.0->ultralytics) (1.13.1)\n",
      "Requirement already satisfied: networkx in c:\\users\\hamad\\appdata\\local\\programs\\python\\python310\\lib\\site-packages (from torch>=1.8.0->ultralytics) (3.4.2)\n",
      "Requirement already satisfied: jinja2 in c:\\users\\hamad\\appdata\\local\\programs\\python\\python310\\lib\\site-packages (from torch>=1.8.0->ultralytics) (3.1.4)\n",
      "Requirement already satisfied: fsspec in c:\\users\\hamad\\appdata\\local\\programs\\python\\python310\\lib\\site-packages (from torch>=1.8.0->ultralytics) (2024.10.0)\n",
      "Requirement already satisfied: colorama in c:\\users\\hamad\\appdata\\local\\programs\\python\\python310\\lib\\site-packages (from tqdm>=4.64.0->ultralytics) (0.4.6)\n",
      "Requirement already satisfied: six>=1.5 in c:\\users\\hamad\\appdata\\local\\programs\\python\\python310\\lib\\site-packages (from python-dateutil>=2.7->matplotlib>=3.3.0->ultralytics) (1.16.0)\n",
      "Requirement already satisfied: MarkupSafe>=2.0 in c:\\users\\hamad\\appdata\\local\\programs\\python\\python310\\lib\\site-packages (from jinja2->torch>=1.8.0->ultralytics) (2.1.5)\n",
      "Requirement already satisfied: mpmath<1.4,>=1.1.0 in c:\\users\\hamad\\appdata\\local\\programs\\python\\python310\\lib\\site-packages (from sympy->torch>=1.8.0->ultralytics) (1.3.0)\n",
      "Downloading ultralytics-8.3.116-py3-none-any.whl (984 kB)\n",
      "   ---------------------------------------- 0.0/984.0 kB ? eta -:--:--\n",
      "   ---------------------------------------- 0.0/984.0 kB ? eta -:--:--\n",
      "   ---------------------------------------- 0.0/984.0 kB ? eta -:--:--\n",
      "   ---------------------------------------- 0.0/984.0 kB ? eta -:--:--\n",
      "   ---------------------------------------- 0.0/984.0 kB ? eta -:--:--\n",
      "   ---------------------------------------- 0.0/984.0 kB ? eta -:--:--\n",
      "   ---------------------------------------- 0.0/984.0 kB ? eta -:--:--\n",
      "   ---------------------------------------- 0.0/984.0 kB ? eta -:--:--\n",
      "   ---------------------------------------- 0.0/984.0 kB ? eta -:--:--\n",
      "   ---------------------------------------- 0.0/984.0 kB ? eta -:--:--\n",
      "   ---------------------------------------- 0.0/984.0 kB ? eta -:--:--\n",
      "   ---------------------------------------- 0.0/984.0 kB ? eta -:--:--\n",
      "   ---------------------------------------- 0.0/984.0 kB ? eta -:--:--\n",
      "   ---------------------------------------- 0.0/984.0 kB ? eta -:--:--\n",
      "   ---------------------------------------- 0.0/984.0 kB ? eta -:--:--\n",
      "   ---------------------------------------- 0.0/984.0 kB ? eta -:--:--\n",
      "   ---------------------------------------- 0.0/984.0 kB ? eta -:--:--\n",
      "   ---------------------------------------- 0.0/984.0 kB ? eta -:--:--\n",
      "   ---------------------------------------- 0.0/984.0 kB ? eta -:--:--\n",
      "   ---------------------------------------- 0.0/984.0 kB ? eta -:--:--\n",
      "   ---------------------------------------- 0.0/984.0 kB ? eta -:--:--\n",
      "   ---------------------------------------- 0.0/984.0 kB ? eta -:--:--\n",
      "   ---------------------------------------- 0.0/984.0 kB ? eta -:--:--\n",
      "   ---------------------------------------- 0.0/984.0 kB ? eta -:--:--\n",
      "   ---------------------------------------- 0.0/984.0 kB ? eta -:--:--\n",
      "   ---------------------------------------- 0.0/984.0 kB ? eta -:--:--\n",
      "   ---------------------------------------- 0.0/984.0 kB ? eta -:--:--\n",
      "   ---------------------------------------- 0.0/984.0 kB ? eta -:--:--\n",
      "   ---------------------------------------- 0.0/984.0 kB ? eta -:--:--\n",
      "   ---------------------------------------- 0.0/984.0 kB ? eta -:--:--\n",
      "   ---------------------------------------- 0.0/984.0 kB ? eta -:--:--\n",
      "   ---------------------------------------- 0.0/984.0 kB ? eta -:--:--\n",
      "   ---------------------------------------- 0.0/984.0 kB ? eta -:--:--\n",
      "   ---------------------------------------- 0.0/984.0 kB ? eta -:--:--\n",
      "   ---------------------------------------- 0.0/984.0 kB ? eta -:--:--\n",
      "   ---------------------------------------- 0.0/984.0 kB ? eta -:--:--\n",
      "   ---------------------------------------- 0.0/984.0 kB ? eta -:--:--\n",
      "   ---------------------------------------- 0.0/984.0 kB ? eta -:--:--\n",
      "   ---------------------------------------- 0.0/984.0 kB ? eta -:--:--\n",
      "   ---------------------------------------- 0.0/984.0 kB ? eta -:--:--\n",
      "   ---------------------------------------- 0.0/984.0 kB ? eta -:--:--\n",
      "   ---------------------------------------- 0.0/984.0 kB ? eta -:--:--\n",
      "   ---------------------------------------- 0.0/984.0 kB ? eta -:--:--\n",
      "   ---------------------------------------- 0.0/984.0 kB ? eta -:--:--\n",
      "   ---------------------------------------- 0.0/984.0 kB ? eta -:--:--\n",
      "   ---------------------------------------- 0.0/984.0 kB ? eta -:--:--\n",
      "   ---------------------------------------- 0.0/984.0 kB ? eta -:--:--\n",
      "   ---------------------------------------- 0.0/984.0 kB ? eta -:--:--\n",
      "   ---------------------------------------- 0.0/984.0 kB ? eta -:--:--\n",
      "   ---------------------------------------- 0.0/984.0 kB ? eta -:--:--\n",
      "   ---------------------------------------- 0.0/984.0 kB ? eta -:--:--\n",
      "   ---------------------------------------- 0.0/984.0 kB ? eta -:--:--\n",
      "   ---------------------------------------- 0.0/984.0 kB ? eta -:--:--\n",
      "   ---------------------------------------- 0.0/984.0 kB ? eta -:--:--\n",
      "   ---------------------------------------- 0.0/984.0 kB ? eta -:--:--\n",
      "   ---------------------------------------- 0.0/984.0 kB ? eta -:--:--\n",
      "   ---------------------------------------- 0.0/984.0 kB ? eta -:--:--\n",
      "   ---------------------------------------- 0.0/984.0 kB ? eta -:--:--\n",
      "   ---------------------------------------- 0.0/984.0 kB ? eta -:--:--\n",
      "   ---------------------------------------- 0.0/984.0 kB ? eta -:--:--\n",
      "   ---------------------------------------- 0.0/984.0 kB ? eta -:--:--\n",
      "   ---------------------------------------- 0.0/984.0 kB ? eta -:--:--\n",
      "   ---------------------------------------- 0.0/984.0 kB ? eta -:--:--\n",
      "   ---------------------------------------- 0.0/984.0 kB ? eta -:--:--\n",
      "   ---------------------------------------- 0.0/984.0 kB ? eta -:--:--\n",
      "   ---------------------------------------- 0.0/984.0 kB ? eta -:--:--\n",
      "   ---------------------------------------- 0.0/984.0 kB ? eta -:--:--\n",
      "   ---------------------------------------- 0.0/984.0 kB ? eta -:--:--\n",
      "   ---------------------------------------- 0.0/984.0 kB ? eta -:--:--\n",
      "   ---------------------------------------- 0.0/984.0 kB ? eta -:--:--\n",
      "   ---------------------------------------- 0.0/984.0 kB ? eta -:--:--\n",
      "   ---------------------------------------- 0.0/984.0 kB ? eta -:--:--\n",
      "   ---------------------------------------- 0.0/984.0 kB ? eta -:--:--\n",
      "   ---------------------------------------- 0.0/984.0 kB ? eta -:--:--\n",
      "   ---------------------------------------- 0.0/984.0 kB ? eta -:--:--\n",
      "   ---------------------------------------- 0.0/984.0 kB ? eta -:--:--\n",
      "   ---------------------------------------- 0.0/984.0 kB ? eta -:--:--\n",
      "   ---------------------------------------- 0.0/984.0 kB ? eta -:--:--\n",
      "   ---------------------------------------- 0.0/984.0 kB ? eta -:--:--\n",
      "   ---------------------------------------- 0.0/984.0 kB ? eta -:--:--\n",
      "   ---------------------------------------- 0.0/984.0 kB ? eta -:--:--\n",
      "   ---------------------------------------- 0.0/984.0 kB ? eta -:--:--\n",
      "   ---------------------------------------- 0.0/984.0 kB ? eta -:--:--\n",
      "   ---------------------------------------- 0.0/984.0 kB ? eta -:--:--\n",
      "   ---------------------------------------- 0.0/984.0 kB ? eta -:--:--\n",
      "   ---------------------------------------- 0.0/984.0 kB ? eta -:--:--\n",
      "   ---------------------------------------- 0.0/984.0 kB ? eta -:--:--\n",
      "   ---------------------------------------- 0.0/984.0 kB ? eta -:--:--\n",
      "   ---------------------------------------- 0.0/984.0 kB ? eta -:--:--\n",
      "   ---------------------------------------- 0.0/984.0 kB ? eta -:--:--\n",
      "   ---------------------------------------- 0.0/984.0 kB ? eta -:--:--\n",
      "   ---------------------------------------- 0.0/984.0 kB ? eta -:--:--\n",
      "   ---------------------------------------- 0.0/984.0 kB ? eta -:--:--\n",
      "   ---------------------------------------- 0.0/984.0 kB ? eta -:--:--\n",
      "   ---------------------------------------- 0.0/984.0 kB ? eta -:--:--\n",
      "   ---------------------------------------- 0.0/984.0 kB ? eta -:--:--\n",
      "   ---------- ----------------------------- 262.1/984.0 kB ? eta -:--:--\n",
      "   ---------- ----------------------------- 262.1/984.0 kB ? eta -:--:--\n",
      "   ---------- ----------------------------- 262.1/984.0 kB ? eta -:--:--\n",
      "   ---------- ----------------------------- 262.1/984.0 kB ? eta -:--:--\n",
      "   ---------- ----------------------------- 262.1/984.0 kB ? eta -:--:--\n",
      "   ---------- ----------------------------- 262.1/984.0 kB ? eta -:--:--\n",
      "   ---------- ----------------------------- 262.1/984.0 kB ? eta -:--:--\n",
      "   ---------- ----------------------------- 262.1/984.0 kB ? eta -:--:--\n",
      "   ---------- ----------------------------- 262.1/984.0 kB ? eta -:--:--\n",
      "   ---------- ----------------------------- 262.1/984.0 kB ? eta -:--:--\n",
      "   ---------- ----------------------------- 262.1/984.0 kB ? eta -:--:--\n",
      "   ---------- ----------------------------- 262.1/984.0 kB ? eta -:--:--\n",
      "   ---------- ----------------------------- 262.1/984.0 kB ? eta -:--:--\n",
      "   ---------- ----------------------------- 262.1/984.0 kB ? eta -:--:--\n",
      "   ---------- ----------------------------- 262.1/984.0 kB ? eta -:--:--\n",
      "   ---------- ----------------------------- 262.1/984.0 kB ? eta -:--:--\n",
      "   ---------- ----------------------------- 262.1/984.0 kB ? eta -:--:--\n",
      "   ---------- ----------------------------- 262.1/984.0 kB ? eta -:--:--\n",
      "   ---------- ----------------------------- 262.1/984.0 kB ? eta -:--:--\n",
      "   ---------- ----------------------------- 262.1/984.0 kB ? eta -:--:--\n",
      "   ---------- ----------------------------- 262.1/984.0 kB ? eta -:--:--\n",
      "   ---------- ----------------------------- 262.1/984.0 kB ? eta -:--:--\n",
      "   ---------- ----------------------------- 262.1/984.0 kB ? eta -:--:--\n",
      "   ---------- ----------------------------- 262.1/984.0 kB ? eta -:--:--\n",
      "   ---------- ----------------------------- 262.1/984.0 kB ? eta -:--:--\n",
      "   ---------- ----------------------------- 262.1/984.0 kB ? eta -:--:--\n",
      "   ---------- ----------------------------- 262.1/984.0 kB ? eta -:--:--\n",
      "   ---------- ----------------------------- 262.1/984.0 kB ? eta -:--:--\n",
      "   ---------- ----------------------------- 262.1/984.0 kB ? eta -:--:--\n",
      "   ---------- ----------------------------- 262.1/984.0 kB ? eta -:--:--\n",
      "   ---------- ----------------------------- 262.1/984.0 kB ? eta -:--:--\n",
      "   ---------- ----------------------------- 262.1/984.0 kB ? eta -:--:--\n",
      "   ---------- ----------------------------- 262.1/984.0 kB ? eta -:--:--\n",
      "   ---------- ----------------------------- 262.1/984.0 kB ? eta -:--:--\n",
      "   ---------- ----------------------------- 262.1/984.0 kB ? eta -:--:--\n",
      "   ---------- ----------------------------- 262.1/984.0 kB ? eta -:--:--\n",
      "   ---------- ----------------------------- 262.1/984.0 kB ? eta -:--:--\n",
      "   ---------- ----------------------------- 262.1/984.0 kB ? eta -:--:--\n",
      "   ---------- ----------------------------- 262.1/984.0 kB ? eta -:--:--\n",
      "   ---------- ----------------------------- 262.1/984.0 kB ? eta -:--:--\n",
      "   ---------- ----------------------------- 262.1/984.0 kB ? eta -:--:--\n",
      "   ---------- ----------------------------- 262.1/984.0 kB ? eta -:--:--\n",
      "   ---------- ----------------------------- 262.1/984.0 kB ? eta -:--:--\n",
      "   ---------- ----------------------------- 262.1/984.0 kB ? eta -:--:--\n",
      "   ---------- ----------------------------- 262.1/984.0 kB ? eta -:--:--\n",
      "   -------------------- ------------------ 524.3/984.0 kB 27.7 kB/s eta 0:00:17\n",
      "   -------------------- ------------------ 524.3/984.0 kB 27.7 kB/s eta 0:00:17\n",
      "   -------------------- ------------------ 524.3/984.0 kB 27.7 kB/s eta 0:00:17\n",
      "   -------------------- ------------------ 524.3/984.0 kB 27.7 kB/s eta 0:00:17\n",
      "   -------------------- ------------------ 524.3/984.0 kB 27.7 kB/s eta 0:00:17\n",
      "   -------------------- ------------------ 524.3/984.0 kB 27.7 kB/s eta 0:00:17\n",
      "   -------------------- ------------------ 524.3/984.0 kB 27.7 kB/s eta 0:00:17\n",
      "   -------------------- ------------------ 524.3/984.0 kB 27.7 kB/s eta 0:00:17\n",
      "   -------------------- ------------------ 524.3/984.0 kB 27.7 kB/s eta 0:00:17\n",
      "   -------------------- ------------------ 524.3/984.0 kB 27.7 kB/s eta 0:00:17\n",
      "   -------------------- ------------------ 524.3/984.0 kB 27.7 kB/s eta 0:00:17\n",
      "   -------------------- ------------------ 524.3/984.0 kB 27.7 kB/s eta 0:00:17\n",
      "   -------------------- ------------------ 524.3/984.0 kB 27.7 kB/s eta 0:00:17\n",
      "   -------------------- ------------------ 524.3/984.0 kB 27.7 kB/s eta 0:00:17\n",
      "   -------------------- ------------------ 524.3/984.0 kB 27.7 kB/s eta 0:00:17\n",
      "   -------------------- ------------------ 524.3/984.0 kB 27.7 kB/s eta 0:00:17\n",
      "   -------------------- ------------------ 524.3/984.0 kB 27.7 kB/s eta 0:00:17\n",
      "   -------------------- ------------------ 524.3/984.0 kB 27.7 kB/s eta 0:00:17\n",
      "   -------------------- ------------------ 524.3/984.0 kB 27.7 kB/s eta 0:00:17\n",
      "   -------------------- ------------------ 524.3/984.0 kB 27.7 kB/s eta 0:00:17\n",
      "   -------------------- ------------------ 524.3/984.0 kB 27.7 kB/s eta 0:00:17\n",
      "   -------------------- ------------------ 524.3/984.0 kB 27.7 kB/s eta 0:00:17\n",
      "   -------------------- ------------------ 524.3/984.0 kB 27.7 kB/s eta 0:00:17\n",
      "   -------------------- ------------------ 524.3/984.0 kB 27.7 kB/s eta 0:00:17\n",
      "   -------------------- ------------------ 524.3/984.0 kB 27.7 kB/s eta 0:00:17\n",
      "   -------------------- ------------------ 524.3/984.0 kB 27.7 kB/s eta 0:00:17\n",
      "   -------------------- ------------------ 524.3/984.0 kB 27.7 kB/s eta 0:00:17\n",
      "   -------------------- ------------------ 524.3/984.0 kB 27.7 kB/s eta 0:00:17\n",
      "   -------------------- ------------------ 524.3/984.0 kB 27.7 kB/s eta 0:00:17\n",
      "   -------------------- ------------------ 524.3/984.0 kB 27.7 kB/s eta 0:00:17\n",
      "   -------------------- ------------------ 524.3/984.0 kB 27.7 kB/s eta 0:00:17\n",
      "   -------------------- ------------------ 524.3/984.0 kB 27.7 kB/s eta 0:00:17\n",
      "   -------------------- ------------------ 524.3/984.0 kB 27.7 kB/s eta 0:00:17\n",
      "   -------------------- ------------------ 524.3/984.0 kB 27.7 kB/s eta 0:00:17\n",
      "   -------------------- ------------------ 524.3/984.0 kB 27.7 kB/s eta 0:00:17\n",
      "   -------------------- ------------------ 524.3/984.0 kB 27.7 kB/s eta 0:00:17\n",
      "   -------------------- ------------------ 524.3/984.0 kB 27.7 kB/s eta 0:00:17\n",
      "   -------------------- ------------------ 524.3/984.0 kB 27.7 kB/s eta 0:00:17\n",
      "   -------------------- ------------------ 524.3/984.0 kB 27.7 kB/s eta 0:00:17\n",
      "   -------------------- ------------------ 524.3/984.0 kB 27.7 kB/s eta 0:00:17\n",
      "   -------------------- ------------------ 524.3/984.0 kB 27.7 kB/s eta 0:00:17\n",
      "   -------------------- ------------------ 524.3/984.0 kB 27.7 kB/s eta 0:00:17\n",
      "   -------------------- ------------------ 524.3/984.0 kB 27.7 kB/s eta 0:00:17\n",
      "   -------------------- ------------------ 524.3/984.0 kB 27.7 kB/s eta 0:00:17\n",
      "   -------------------- ------------------ 524.3/984.0 kB 27.7 kB/s eta 0:00:17\n",
      "   -------------------- ------------------ 524.3/984.0 kB 27.7 kB/s eta 0:00:17\n",
      "   -------------------- ------------------ 524.3/984.0 kB 27.7 kB/s eta 0:00:17\n",
      "   -------------------- ------------------ 524.3/984.0 kB 27.7 kB/s eta 0:00:17\n",
      "   -------------------- ------------------ 524.3/984.0 kB 27.7 kB/s eta 0:00:17\n",
      "   -------------------- ------------------ 524.3/984.0 kB 27.7 kB/s eta 0:00:17\n",
      "   -------------------- ------------------ 524.3/984.0 kB 27.7 kB/s eta 0:00:17\n",
      "   ------------------------------- ------- 786.4/984.0 kB 26.1 kB/s eta 0:00:08\n",
      "   ------------------------------- ------- 786.4/984.0 kB 26.1 kB/s eta 0:00:08\n",
      "   ------------------------------- ------- 786.4/984.0 kB 26.1 kB/s eta 0:00:08\n",
      "   ------------------------------- ------- 786.4/984.0 kB 26.1 kB/s eta 0:00:08\n",
      "   ------------------------------- ------- 786.4/984.0 kB 26.1 kB/s eta 0:00:08\n",
      "   ------------------------------- ------- 786.4/984.0 kB 26.1 kB/s eta 0:00:08\n",
      "   ------------------------------- ------- 786.4/984.0 kB 26.1 kB/s eta 0:00:08\n",
      "   ------------------------------- ------- 786.4/984.0 kB 26.1 kB/s eta 0:00:08\n",
      "   ------------------------------- ------- 786.4/984.0 kB 26.1 kB/s eta 0:00:08\n",
      "   ------------------------------- ------- 786.4/984.0 kB 26.1 kB/s eta 0:00:08\n",
      "   ------------------------------- ------- 786.4/984.0 kB 26.1 kB/s eta 0:00:08\n",
      "   ------------------------------- ------- 786.4/984.0 kB 26.1 kB/s eta 0:00:08\n",
      "   ------------------------------- ------- 786.4/984.0 kB 26.1 kB/s eta 0:00:08\n",
      "   ------------------------------- ------- 786.4/984.0 kB 26.1 kB/s eta 0:00:08\n",
      "   ------------------------------- ------- 786.4/984.0 kB 26.1 kB/s eta 0:00:08\n",
      "   ------------------------------- ------- 786.4/984.0 kB 26.1 kB/s eta 0:00:08\n",
      "   --------------------------------------- 984.0/984.0 kB 30.7 kB/s eta 0:00:00\n",
      "Downloading ultralytics_thop-2.0.14-py3-none-any.whl (26 kB)\n",
      "Downloading py_cpuinfo-9.0.0-py3-none-any.whl (22 kB)\n",
      "Installing collected packages: py-cpuinfo, ultralytics-thop, ultralytics\n",
      "Successfully installed py-cpuinfo-9.0.0 ultralytics-8.3.116 ultralytics-thop-2.0.14\n"
     ]
    },
    {
     "name": "stderr",
     "output_type": "stream",
     "text": [
      "WARNING: Ignoring invalid distribution -ensorflow-intel (c:\\users\\hamad\\appdata\\local\\programs\\python\\python310\\lib\\site-packages)\n",
      "WARNING: Ignoring invalid distribution -ensorflow-intel (c:\\users\\hamad\\appdata\\local\\programs\\python\\python310\\lib\\site-packages)\n",
      "WARNING: Ignoring invalid distribution -ensorflow-intel (c:\\users\\hamad\\appdata\\local\\programs\\python\\python310\\lib\\site-packages)\n"
     ]
    }
   ],
   "source": [
    "!pip install ultralytics"
   ]
  },
  {
   "cell_type": "code",
   "execution_count": 5,
   "id": "2c08d78b-7944-4e9a-8452-990de6df4d61",
   "metadata": {},
   "outputs": [
    {
     "name": "stdout",
     "output_type": "stream",
     "text": [
      "Ultralytics 8.3.116  Python-3.10.8 torch-2.2.2+cpu CPU (Intel Core(TM) i5-6300U 2.40GHz)\n",
      "\u001b[34m\u001b[1mengine\\trainer: \u001b[0mtask=detect, mode=train, model=yolov8n.pt, data=dataset.yaml, epochs=50, time=None, patience=100, batch=16, imgsz=640, save=True, save_period=-1, cache=False, device=None, workers=8, project=None, name=train, exist_ok=False, pretrained=True, optimizer=auto, verbose=True, seed=0, deterministic=True, single_cls=False, rect=False, cos_lr=False, close_mosaic=10, resume=False, amp=True, fraction=1.0, profile=False, freeze=None, multi_scale=False, overlap_mask=True, mask_ratio=4, dropout=0.0, val=True, split=val, save_json=False, conf=None, iou=0.7, max_det=300, half=False, dnn=False, plots=True, source=None, vid_stride=1, stream_buffer=False, visualize=False, augment=False, agnostic_nms=False, classes=None, retina_masks=False, embed=None, show=False, save_frames=False, save_txt=False, save_conf=False, save_crop=False, show_labels=True, show_conf=True, show_boxes=True, line_width=None, format=torchscript, keras=False, optimize=False, int8=False, dynamic=False, simplify=True, opset=None, workspace=None, nms=False, lr0=0.01, lrf=0.01, momentum=0.937, weight_decay=0.0005, warmup_epochs=3.0, warmup_momentum=0.8, warmup_bias_lr=0.1, box=7.5, cls=0.5, dfl=1.5, pose=12.0, kobj=1.0, nbs=64, hsv_h=0.015, hsv_s=0.7, hsv_v=0.4, degrees=0.0, translate=0.1, scale=0.5, shear=0.0, perspective=0.0, flipud=0.0, fliplr=0.5, bgr=0.0, mosaic=1.0, mixup=0.0, copy_paste=0.0, copy_paste_mode=flip, auto_augment=randaugment, erasing=0.4, cfg=None, tracker=botsort.yaml, save_dir=runs\\detect\\train\n"
     ]
    },
    {
     "name": "stderr",
     "output_type": "stream",
     "text": [
      "Traceback (most recent call last):\n",
      "  File \"C:\\Users\\hamad\\AppData\\Local\\Programs\\Python\\Python310\\lib\\site-packages\\ultralytics\\engine\\trainer.py\", line 581, in get_dataset\n",
      "    data = check_det_dataset(self.args.data)\n",
      "  File \"C:\\Users\\hamad\\AppData\\Local\\Programs\\Python\\Python310\\lib\\site-packages\\ultralytics\\data\\utils.py\", line 393, in check_det_dataset\n",
      "    file = check_file(dataset)\n",
      "  File \"C:\\Users\\hamad\\AppData\\Local\\Programs\\Python\\Python310\\lib\\site-packages\\ultralytics\\utils\\checks.py\", line 541, in check_file\n",
      "    raise FileNotFoundError(f\"'{file}' does not exist\")\n",
      "FileNotFoundError: 'dataset.yaml' does not exist\n",
      "\n",
      "The above exception was the direct cause of the following exception:\n",
      "\n",
      "Traceback (most recent call last):\n",
      "  File \"C:\\Users\\hamad\\AppData\\Local\\Programs\\Python\\Python310\\lib\\runpy.py\", line 196, in _run_module_as_main\n",
      "    return _run_code(code, main_globals, None,\n",
      "  File \"C:\\Users\\hamad\\AppData\\Local\\Programs\\Python\\Python310\\lib\\runpy.py\", line 86, in _run_code\n",
      "    exec(code, run_globals)\n",
      "  File \"C:\\Users\\hamad\\AppData\\Local\\Programs\\Python\\Python310\\Scripts\\yolo.exe\\__main__.py\", line 7, in <module>\n",
      "  File \"C:\\Users\\hamad\\AppData\\Local\\Programs\\Python\\Python310\\lib\\site-packages\\ultralytics\\cfg\\__init__.py\", line 987, in entrypoint\n",
      "    getattr(model, mode)(**overrides)  # default args from model\n",
      "  File \"C:\\Users\\hamad\\AppData\\Local\\Programs\\Python\\Python310\\lib\\site-packages\\ultralytics\\engine\\model.py\", line 784, in train\n",
      "    self.trainer = (trainer or self._smart_load(\"trainer\"))(overrides=args, _callbacks=self.callbacks)\n",
      "  File \"C:\\Users\\hamad\\AppData\\Local\\Programs\\Python\\Python310\\lib\\site-packages\\ultralytics\\engine\\trainer.py\", line 137, in __init__\n",
      "    self.trainset, self.testset = self.get_dataset()\n",
      "  File \"C:\\Users\\hamad\\AppData\\Local\\Programs\\Python\\Python310\\lib\\site-packages\\ultralytics\\engine\\trainer.py\", line 585, in get_dataset\n",
      "    raise RuntimeError(emojis(f\"Dataset '{clean_url(self.args.data)}' error \\u274c {e}\")) from e\n",
      "RuntimeError: Dataset 'dataset.yaml' error  'dataset.yaml' does not exist\n"
     ]
    }
   ],
   "source": [
    "!yolo task=detect mode=train model=yolov8n.pt data=dataset.yaml epochs=50 imgsz=640"
   ]
  },
  {
   "cell_type": "code",
   "execution_count": null,
   "id": "e79d1e8a-d481-4eb4-8380-c11899f096d2",
   "metadata": {},
   "outputs": [],
   "source": []
  }
 ],
 "metadata": {
  "kernelspec": {
   "display_name": "Python 3 (ipykernel)",
   "language": "python",
   "name": "python3"
  },
  "language_info": {
   "codemirror_mode": {
    "name": "ipython",
    "version": 3
   },
   "file_extension": ".py",
   "mimetype": "text/x-python",
   "name": "python",
   "nbconvert_exporter": "python",
   "pygments_lexer": "ipython3",
   "version": "3.10.8"
  }
 },
 "nbformat": 4,
 "nbformat_minor": 5
}
