{
 "cells": [
  {
   "cell_type": "code",
   "execution_count": 3,
   "id": "7f5da820-41c8-4ea3-bc36-d5c089fc22fa",
   "metadata": {},
   "outputs": [],
   "source": [
    "import os\n",
    "import numpy as np\n",
    "import pandas as pd\n",
    "import tensorflow as tf\n",
    "from tensorflow.keras.preprocessing.image import ImageDataGenerator\n",
    "from tensorflow.keras import layers, models\n",
    "from tensorflow.keras.models import Model\n",
    "from tensorflow.keras.optimizers import Adam\n",
    "from tensorflow.keras.applications import MobileNetV2\n",
    "from sklearn.model_selection import train_test_split\n",
    "from sklearn.metrics import classification_report, confusion_matrix\n",
    "import matplotlib.pyplot as plt\n",
    "import seaborn as sns"
   ]
  },
  {
   "cell_type": "code",
   "execution_count": 6,
   "id": "a6d00575-7550-4ff3-817e-3a00c9afb3a9",
   "metadata": {},
   "outputs": [
    {
     "name": "stdout",
     "output_type": "stream",
     "text": [
      "Found 2929 images belonging to 3 classes.\n",
      "Found 262 images belonging to 3 classes.\n"
     ]
    }
   ],
   "source": [
    "# Set up data augmentation and normalization for training and validation data\n",
    "train_datagen = ImageDataGenerator(\n",
    "    rescale=1./255,  # Normalize pixel values to [0, 1]\n",
    "    rotation_range=40,\n",
    "    width_shift_range=0.2,\n",
    "    height_shift_range=0.2,\n",
    "    shear_range=0.2,\n",
    "    zoom_range=0.2,\n",
    "    horizontal_flip=True,\n",
    "    fill_mode='nearest'\n",
    ")\n",
    "\n",
    "val_datagen = ImageDataGenerator(rescale=1./255)  # Only rescale for validation data\n",
    "\n",
    "# Set up the training and validation data generators\n",
    "train_generator = train_datagen.flow_from_directory(\n",
    "    'cleaned_dataset/train',  # Directory containing training images\n",
    "    target_size=(224, 224),  # Resize images to match ResNet50 input size\n",
    "    batch_size=32,\n",
    "    class_mode='categorical'  # Since we're dealing with multiple skin types\n",
    ")\n",
    "\n",
    "val_generator = val_datagen.flow_from_directory(\n",
    "    'cleaned_dataset/val',  # Directory containing validation images\n",
    "    target_size=(224, 224),\n",
    "    batch_size=32,\n",
    "    class_mode='categorical'\n",
    ")\n"
   ]
  },
  {
   "cell_type": "code",
   "execution_count": 5,
   "id": "9cf03b0b-3498-4aa0-bc71-a0ae149cf54b",
   "metadata": {},
   "outputs": [],
   "source": [
    "# Load pre-trained on ImageNet without the top layers\n",
    "base_model = MobileNetV2(weights='imagenet', include_top=False, input_shape=(224, 224, 3))\n",
    "\n",
    "# Freeze the layers \n",
    "base_model.trainable = False\n"
   ]
  },
  {
   "cell_type": "code",
   "execution_count": 7,
   "id": "e3661ad0-cb25-47e3-b939-845cead7212b",
   "metadata": {},
   "outputs": [],
   "source": [
    "# Create a new model on top \n",
    "model = models.Sequential([\n",
    "    base_model,\n",
    "    layers.GlobalAveragePooling2D(),\n",
    "    layers.Dense(512, activation='relu'),\n",
    "    layers.Dropout(0.5),  # Dropout layer to prevent overfitting\n",
    "    layers.Dense(256, activation='relu'),\n",
    "    layers.Dropout(0.5),  # Dropout layer to prevent overfitting\n",
    "    layers.Dense(train_generator.num_classes, activation='softmax')  # Adjust for your number of classes\n",
    "])\n",
    "\n",
    "\n",
    "# Compile the model\n",
    "model.compile(optimizer='adam', loss='categorical_crossentropy', metrics=['accuracy'])"
   ]
  },
  {
   "cell_type": "code",
   "execution_count": 6,
   "id": "cb7a48e3-9b46-4284-aa95-c51b41565b76",
   "metadata": {},
   "outputs": [
    {
     "name": "stdout",
     "output_type": "stream",
     "text": [
      "Epoch 1/30\n"
     ]
    },
    {
     "name": "stderr",
     "output_type": "stream",
     "text": [
      "C:\\Users\\hamad\\AppData\\Local\\Programs\\Python\\Python310\\lib\\site-packages\\keras\\src\\trainers\\data_adapters\\py_dataset_adapter.py:122: UserWarning: Your `PyDataset` class should call `super().__init__(**kwargs)` in its constructor. `**kwargs` can include `workers`, `use_multiprocessing`, `max_queue_size`. Do not pass these arguments to `fit()`, as they will be ignored.\n",
      "  self._warn_if_super_not_called()\n"
     ]
    },
    {
     "name": "stdout",
     "output_type": "stream",
     "text": [
      "\u001b[1m92/92\u001b[0m \u001b[32m━━━━━━━━━━━━━━━━━━━━\u001b[0m\u001b[37m\u001b[0m \u001b[1m137s\u001b[0m 1s/step - accuracy: 0.3849 - loss: 1.4024 - val_accuracy: 0.3282 - val_loss: 1.1048\n",
      "Epoch 2/30\n",
      "\u001b[1m92/92\u001b[0m \u001b[32m━━━━━━━━━━━━━━━━━━━━\u001b[0m\u001b[37m\u001b[0m \u001b[1m109s\u001b[0m 1s/step - accuracy: 0.4520 - loss: 1.0335 - val_accuracy: 0.3855 - val_loss: 1.0983\n",
      "Epoch 3/30\n",
      "\u001b[1m92/92\u001b[0m \u001b[32m━━━━━━━━━━━━━━━━━━━━\u001b[0m\u001b[37m\u001b[0m \u001b[1m107s\u001b[0m 1s/step - accuracy: 0.4741 - loss: 1.0048 - val_accuracy: 0.3397 - val_loss: 1.1119\n",
      "Epoch 4/30\n",
      "\u001b[1m92/92\u001b[0m \u001b[32m━━━━━━━━━━━━━━━━━━━━\u001b[0m\u001b[37m\u001b[0m \u001b[1m107s\u001b[0m 1s/step - accuracy: 0.5165 - loss: 0.9719 - val_accuracy: 0.4008 - val_loss: 1.0799\n",
      "Epoch 5/30\n",
      "\u001b[1m92/92\u001b[0m \u001b[32m━━━━━━━━━━━━━━━━━━━━\u001b[0m\u001b[37m\u001b[0m \u001b[1m108s\u001b[0m 1s/step - accuracy: 0.5010 - loss: 0.9646 - val_accuracy: 0.3359 - val_loss: 1.0998\n",
      "Epoch 6/30\n",
      "\u001b[1m92/92\u001b[0m \u001b[32m━━━━━━━━━━━━━━━━━━━━\u001b[0m\u001b[37m\u001b[0m \u001b[1m107s\u001b[0m 1s/step - accuracy: 0.5304 - loss: 0.9493 - val_accuracy: 0.3931 - val_loss: 1.1000\n",
      "Epoch 7/30\n",
      "\u001b[1m92/92\u001b[0m \u001b[32m━━━━━━━━━━━━━━━━━━━━\u001b[0m\u001b[37m\u001b[0m \u001b[1m106s\u001b[0m 1s/step - accuracy: 0.5205 - loss: 0.9272 - val_accuracy: 0.3969 - val_loss: 1.0889\n",
      "Epoch 8/30\n",
      "\u001b[1m92/92\u001b[0m \u001b[32m━━━━━━━━━━━━━━━━━━━━\u001b[0m\u001b[37m\u001b[0m \u001b[1m107s\u001b[0m 1s/step - accuracy: 0.5447 - loss: 0.9260 - val_accuracy: 0.3817 - val_loss: 1.1317\n",
      "Epoch 9/30\n",
      "\u001b[1m92/92\u001b[0m \u001b[32m━━━━━━━━━━━━━━━━━━━━\u001b[0m\u001b[37m\u001b[0m \u001b[1m106s\u001b[0m 1s/step - accuracy: 0.5654 - loss: 0.9013 - val_accuracy: 0.4885 - val_loss: 1.0791\n",
      "Epoch 10/30\n",
      "\u001b[1m92/92\u001b[0m \u001b[32m━━━━━━━━━━━━━━━━━━━━\u001b[0m\u001b[37m\u001b[0m \u001b[1m107s\u001b[0m 1s/step - accuracy: 0.5776 - loss: 0.8681 - val_accuracy: 0.4122 - val_loss: 1.0801\n",
      "Epoch 11/30\n",
      "\u001b[1m92/92\u001b[0m \u001b[32m━━━━━━━━━━━━━━━━━━━━\u001b[0m\u001b[37m\u001b[0m \u001b[1m107s\u001b[0m 1s/step - accuracy: 0.5631 - loss: 0.8948 - val_accuracy: 0.3779 - val_loss: 1.0891\n",
      "Epoch 12/30\n",
      "\u001b[1m92/92\u001b[0m \u001b[32m━━━━━━━━━━━━━━━━━━━━\u001b[0m\u001b[37m\u001b[0m \u001b[1m106s\u001b[0m 1s/step - accuracy: 0.5578 - loss: 0.8776 - val_accuracy: 0.3702 - val_loss: 1.1066\n",
      "Epoch 13/30\n",
      "\u001b[1m92/92\u001b[0m \u001b[32m━━━━━━━━━━━━━━━━━━━━\u001b[0m\u001b[37m\u001b[0m \u001b[1m107s\u001b[0m 1s/step - accuracy: 0.5788 - loss: 0.8652 - val_accuracy: 0.3931 - val_loss: 1.1074\n",
      "Epoch 14/30\n",
      "\u001b[1m92/92\u001b[0m \u001b[32m━━━━━━━━━━━━━━━━━━━━\u001b[0m\u001b[37m\u001b[0m \u001b[1m106s\u001b[0m 1s/step - accuracy: 0.5954 - loss: 0.8299 - val_accuracy: 0.3969 - val_loss: 1.1054\n",
      "Epoch 15/30\n",
      "\u001b[1m92/92\u001b[0m \u001b[32m━━━━━━━━━━━━━━━━━━━━\u001b[0m\u001b[37m\u001b[0m \u001b[1m105s\u001b[0m 1s/step - accuracy: 0.5822 - loss: 0.8681 - val_accuracy: 0.3969 - val_loss: 1.1083\n",
      "Epoch 16/30\n",
      "\u001b[1m92/92\u001b[0m \u001b[32m━━━━━━━━━━━━━━━━━━━━\u001b[0m\u001b[37m\u001b[0m \u001b[1m107s\u001b[0m 1s/step - accuracy: 0.6118 - loss: 0.8341 - val_accuracy: 0.4198 - val_loss: 1.0941\n",
      "Epoch 17/30\n",
      "\u001b[1m92/92\u001b[0m \u001b[32m━━━━━━━━━━━━━━━━━━━━\u001b[0m\u001b[37m\u001b[0m \u001b[1m107s\u001b[0m 1s/step - accuracy: 0.6294 - loss: 0.7951 - val_accuracy: 0.4122 - val_loss: 1.0979\n",
      "Epoch 18/30\n",
      "\u001b[1m92/92\u001b[0m \u001b[32m━━━━━━━━━━━━━━━━━━━━\u001b[0m\u001b[37m\u001b[0m \u001b[1m107s\u001b[0m 1s/step - accuracy: 0.6084 - loss: 0.8011 - val_accuracy: 0.4008 - val_loss: 1.1682\n",
      "Epoch 19/30\n",
      "\u001b[1m92/92\u001b[0m \u001b[32m━━━━━━━━━━━━━━━━━━━━\u001b[0m\u001b[37m\u001b[0m \u001b[1m107s\u001b[0m 1s/step - accuracy: 0.6331 - loss: 0.7972 - val_accuracy: 0.4198 - val_loss: 1.1101\n",
      "Epoch 20/30\n",
      "\u001b[1m92/92\u001b[0m \u001b[32m━━━━━━━━━━━━━━━━━━━━\u001b[0m\u001b[37m\u001b[0m \u001b[1m108s\u001b[0m 1s/step - accuracy: 0.6117 - loss: 0.8064 - val_accuracy: 0.4046 - val_loss: 1.1474\n",
      "Epoch 21/30\n",
      "\u001b[1m92/92\u001b[0m \u001b[32m━━━━━━━━━━━━━━━━━━━━\u001b[0m\u001b[37m\u001b[0m \u001b[1m108s\u001b[0m 1s/step - accuracy: 0.6301 - loss: 0.7766 - val_accuracy: 0.4198 - val_loss: 1.1552\n",
      "Epoch 22/30\n",
      "\u001b[1m92/92\u001b[0m \u001b[32m━━━━━━━━━━━━━━━━━━━━\u001b[0m\u001b[37m\u001b[0m \u001b[1m108s\u001b[0m 1s/step - accuracy: 0.6517 - loss: 0.7413 - val_accuracy: 0.4504 - val_loss: 1.1264\n",
      "Epoch 23/30\n",
      "\u001b[1m92/92\u001b[0m \u001b[32m━━━━━━━━━━━━━━━━━━━━\u001b[0m\u001b[37m\u001b[0m \u001b[1m106s\u001b[0m 1s/step - accuracy: 0.6452 - loss: 0.7640 - val_accuracy: 0.3779 - val_loss: 1.1749\n",
      "Epoch 24/30\n",
      "\u001b[1m92/92\u001b[0m \u001b[32m━━━━━━━━━━━━━━━━━━━━\u001b[0m\u001b[37m\u001b[0m \u001b[1m107s\u001b[0m 1s/step - accuracy: 0.6482 - loss: 0.7571 - val_accuracy: 0.4160 - val_loss: 1.1204\n",
      "Epoch 25/30\n",
      "\u001b[1m92/92\u001b[0m \u001b[32m━━━━━━━━━━━━━━━━━━━━\u001b[0m\u001b[37m\u001b[0m \u001b[1m106s\u001b[0m 1s/step - accuracy: 0.6562 - loss: 0.7418 - val_accuracy: 0.4427 - val_loss: 1.1107\n",
      "Epoch 26/30\n",
      "\u001b[1m92/92\u001b[0m \u001b[32m━━━━━━━━━━━━━━━━━━━━\u001b[0m\u001b[37m\u001b[0m \u001b[1m107s\u001b[0m 1s/step - accuracy: 0.6539 - loss: 0.7576 - val_accuracy: 0.4275 - val_loss: 1.1446\n",
      "Epoch 27/30\n",
      "\u001b[1m92/92\u001b[0m \u001b[32m━━━━━━━━━━━━━━━━━━━━\u001b[0m\u001b[37m\u001b[0m \u001b[1m107s\u001b[0m 1s/step - accuracy: 0.6707 - loss: 0.7292 - val_accuracy: 0.4313 - val_loss: 1.1518\n",
      "Epoch 28/30\n",
      "\u001b[1m92/92\u001b[0m \u001b[32m━━━━━━━━━━━━━━━━━━━━\u001b[0m\u001b[37m\u001b[0m \u001b[1m106s\u001b[0m 1s/step - accuracy: 0.6774 - loss: 0.6905 - val_accuracy: 0.4198 - val_loss: 1.2520\n",
      "Epoch 29/30\n",
      "\u001b[1m92/92\u001b[0m \u001b[32m━━━━━━━━━━━━━━━━━━━━\u001b[0m\u001b[37m\u001b[0m \u001b[1m108s\u001b[0m 1s/step - accuracy: 0.6534 - loss: 0.7476 - val_accuracy: 0.4313 - val_loss: 1.1586\n",
      "Epoch 30/30\n",
      "\u001b[1m92/92\u001b[0m \u001b[32m━━━━━━━━━━━━━━━━━━━━\u001b[0m\u001b[37m\u001b[0m \u001b[1m108s\u001b[0m 1s/step - accuracy: 0.6691 - loss: 0.7249 - val_accuracy: 0.4237 - val_loss: 1.1793\n"
     ]
    }
   ],
   "source": [
    "# Train the model\n",
    "history = model.fit(\n",
    "    train_generator,\n",
    "    epochs=30,\n",
    "    validation_data=val_generator\n",
    ")"
   ]
  },
  {
   "cell_type": "code",
   "execution_count": 7,
   "id": "b427e6ce-1caa-4e0a-a918-fd77f773f94f",
   "metadata": {},
   "outputs": [
    {
     "name": "stdout",
     "output_type": "stream",
     "text": [
      "\u001b[1m9/9\u001b[0m \u001b[32m━━━━━━━━━━━━━━━━━━━━\u001b[0m\u001b[37m\u001b[0m \u001b[1m8s\u001b[0m 831ms/step - accuracy: 0.4189 - loss: 1.1854\n",
      "Validation Loss: 1.1792916059494019\n",
      "Validation Accuracy: 0.4236641228199005\n",
      "\u001b[1m9/9\u001b[0m \u001b[32m━━━━━━━━━━━━━━━━━━━━\u001b[0m\u001b[37m\u001b[0m \u001b[1m11s\u001b[0m 1s/step  \n",
      "              precision    recall  f1-score   support\n",
      "\n",
      "           0       0.20      0.15      0.17        71\n",
      "           1       0.41      0.41      0.41       111\n",
      "           2       0.32      0.38      0.35        80\n",
      "\n",
      "    accuracy                           0.33       262\n",
      "   macro avg       0.31      0.31      0.31       262\n",
      "weighted avg       0.32      0.33      0.33       262\n",
      "\n"
     ]
    },
    {
     "data": {
      "image/png": "[encoded data removed]",
      "text/plain": [
       "<Figure size 640x480 with 2 Axes>"
      ]
     },
     "metadata": {},
     "output_type": "display_data"
    }
   ],
   "source": [
    "# Evaluate the model on the validation set\n",
    "val_loss, val_acc = model.evaluate(val_generator)\n",
    "print(f'Validation Loss: {val_loss}')\n",
    "print(f'Validation Accuracy: {val_acc}')\n",
    "\n",
    "# Predict the labels for the validation data\n",
    "y_pred = model.predict(val_generator)\n",
    "y_pred_classes = np.argmax(y_pred, axis=1)  # Get the predicted class indices\n",
    "y_true = val_generator.classes  # True labels\n",
    "\n",
    "# Classification report\n",
    "print(classification_report(y_true, y_pred_classes))\n",
    "\n",
    "# Confusion matrix\n",
    "cm = confusion_matrix(y_true, y_pred_classes)\n",
    "sns.heatmap(cm, annot=True, fmt='d', cmap='Blues', xticklabels=train_generator.class_indices.keys(), yticklabels=train_generator.class_indices.keys())\n",
    "plt.xlabel('Predicted')\n",
    "plt.ylabel('True')\n",
    "plt.title('Confusion Matrix')\n",
    "plt.show()\n"
   ]
  },
  {
   "cell_type": "code",
   "execution_count": 8,
   "id": "6c1ff65f-ff12-479a-8dd9-3a1268597238",
   "metadata": {},
   "outputs": [
    {
     "name": "stderr",
     "output_type": "stream",
     "text": [
      "WARNING:absl:You are saving your model as an HDF5 file via `model.save()` or `keras.saving.save_model(model)`. This file format is considered legacy. We recommend using instead the native Keras format, e.g. `model.save('my_model.keras')` or `keras.saving.save_model(model, 'my_model.keras')`. \n"
     ]
    }
   ],
   "source": [
    "model.save(\"skin_model_mobilenetv2.h5\")"
   ]
  },
  {
   "cell_type": "code",
   "execution_count": 8,
   "id": "d955f7a7-b8bc-44fe-be19-78223e74b233",
   "metadata": {},
   "outputs": [
    {
     "name": "stdout",
     "output_type": "stream",
     "text": [
      "Epoch 1/30\n"
     ]
    },
    {
     "name": "stderr",
     "output_type": "stream",
     "text": [
      "C:\\Users\\hamad\\AppData\\Local\\Programs\\Python\\Python310\\lib\\site-packages\\keras\\src\\trainers\\data_adapters\\py_dataset_adapter.py:122: UserWarning: Your `PyDataset` class should call `super().__init__(**kwargs)` in its constructor. `**kwargs` can include `workers`, `use_multiprocessing`, `max_queue_size`. Do not pass these arguments to `fit()`, as they will be ignored.\n",
      "  self._warn_if_super_not_called()\n"
     ]
    },
    {
     "name": "stdout",
     "output_type": "stream",
     "text": [
      "\u001b[1m92/92\u001b[0m \u001b[32m━━━━━━━━━━━━━━━━━━━━\u001b[0m\u001b[37m\u001b[0m \u001b[1m145s\u001b[0m 1s/step - accuracy: 0.3621 - loss: 1.2994 - val_accuracy: 0.3206 - val_loss: 1.2869\n",
      "Epoch 2/30\n",
      "\u001b[1m92/92\u001b[0m \u001b[32m━━━━━━━━━━━━━━━━━━━━\u001b[0m\u001b[37m\u001b[0m \u001b[1m137s\u001b[0m 1s/step - accuracy: 0.4608 - loss: 1.0635 - val_accuracy: 0.3321 - val_loss: 1.2251\n",
      "Epoch 3/30\n",
      "\u001b[1m92/92\u001b[0m \u001b[32m━━━━━━━━━━━━━━━━━━━━\u001b[0m\u001b[37m\u001b[0m \u001b[1m134s\u001b[0m 1s/step - accuracy: 0.4953 - loss: 1.0307 - val_accuracy: 0.3282 - val_loss: 1.2184\n",
      "Epoch 4/30\n",
      "\u001b[1m92/92\u001b[0m \u001b[32m━━━━━━━━━━━━━━━━━━━━\u001b[0m\u001b[37m\u001b[0m \u001b[1m124s\u001b[0m 1s/step - accuracy: 0.5034 - loss: 0.9872 - val_accuracy: 0.3321 - val_loss: 1.2199\n",
      "Epoch 5/30\n",
      "\u001b[1m92/92\u001b[0m \u001b[32m━━━━━━━━━━━━━━━━━━━━\u001b[0m\u001b[37m\u001b[0m \u001b[1m124s\u001b[0m 1s/step - accuracy: 0.5222 - loss: 0.9590 - val_accuracy: 0.3435 - val_loss: 1.2198\n",
      "Epoch 6/30\n",
      "\u001b[1m92/92\u001b[0m \u001b[32m━━━━━━━━━━━━━━━━━━━━\u001b[0m\u001b[37m\u001b[0m \u001b[1m121s\u001b[0m 1s/step - accuracy: 0.5739 - loss: 0.9138 - val_accuracy: 0.3511 - val_loss: 1.1976\n",
      "Epoch 7/30\n",
      "\u001b[1m92/92\u001b[0m \u001b[32m━━━━━━━━━━━━━━━━━━━━\u001b[0m\u001b[37m\u001b[0m \u001b[1m120s\u001b[0m 1s/step - accuracy: 0.5621 - loss: 0.9046 - val_accuracy: 0.3359 - val_loss: 1.2045\n",
      "Epoch 8/30\n",
      "\u001b[1m92/92\u001b[0m \u001b[32m━━━━━━━━━━━━━━━━━━━━\u001b[0m\u001b[37m\u001b[0m \u001b[1m140s\u001b[0m 1s/step - accuracy: 0.5731 - loss: 0.8802 - val_accuracy: 0.3664 - val_loss: 1.1521\n",
      "Epoch 9/30\n",
      "\u001b[1m92/92\u001b[0m \u001b[32m━━━━━━━━━━━━━━━━━━━━\u001b[0m\u001b[37m\u001b[0m \u001b[1m133s\u001b[0m 1s/step - accuracy: 0.5862 - loss: 0.8719 - val_accuracy: 0.3969 - val_loss: 1.1296\n",
      "Epoch 10/30\n",
      "\u001b[1m92/92\u001b[0m \u001b[32m━━━━━━━━━━━━━━━━━━━━\u001b[0m\u001b[37m\u001b[0m \u001b[1m140s\u001b[0m 1s/step - accuracy: 0.5992 - loss: 0.8410 - val_accuracy: 0.3855 - val_loss: 1.1764\n",
      "Epoch 11/30\n",
      "\u001b[1m92/92\u001b[0m \u001b[32m━━━━━━━━━━━━━━━━━━━━\u001b[0m\u001b[37m\u001b[0m \u001b[1m112s\u001b[0m 1s/step - accuracy: 0.6083 - loss: 0.8230 - val_accuracy: 0.4084 - val_loss: 1.1571\n",
      "Epoch 12/30\n",
      "\u001b[1m92/92\u001b[0m \u001b[32m━━━━━━━━━━━━━━━━━━━━\u001b[0m\u001b[37m\u001b[0m \u001b[1m113s\u001b[0m 1s/step - accuracy: 0.6556 - loss: 0.7712 - val_accuracy: 0.4084 - val_loss: 1.1816\n",
      "Epoch 13/30\n",
      "\u001b[1m92/92\u001b[0m \u001b[32m━━━━━━━━━━━━━━━━━━━━\u001b[0m\u001b[37m\u001b[0m \u001b[1m111s\u001b[0m 1s/step - accuracy: 0.6375 - loss: 0.7894 - val_accuracy: 0.4160 - val_loss: 1.1481\n",
      "Epoch 14/30\n",
      "\u001b[1m92/92\u001b[0m \u001b[32m━━━━━━━━━━━━━━━━━━━━\u001b[0m\u001b[37m\u001b[0m \u001b[1m111s\u001b[0m 1s/step - accuracy: 0.6739 - loss: 0.7289 - val_accuracy: 0.4351 - val_loss: 1.1564\n",
      "Epoch 15/30\n",
      "\u001b[1m92/92\u001b[0m \u001b[32m━━━━━━━━━━━━━━━━━━━━\u001b[0m\u001b[37m\u001b[0m \u001b[1m113s\u001b[0m 1s/step - accuracy: 0.6983 - loss: 0.7020 - val_accuracy: 0.4618 - val_loss: 1.1747\n",
      "Epoch 16/30\n",
      "\u001b[1m92/92\u001b[0m \u001b[32m━━━━━━━━━━━━━━━━━━━━\u001b[0m\u001b[37m\u001b[0m \u001b[1m113s\u001b[0m 1s/step - accuracy: 0.6938 - loss: 0.6999 - val_accuracy: 0.4275 - val_loss: 1.1935\n",
      "Epoch 17/30\n",
      "\u001b[1m92/92\u001b[0m \u001b[32m━━━━━━━━━━━━━━━━━━━━\u001b[0m\u001b[37m\u001b[0m \u001b[1m112s\u001b[0m 1s/step - accuracy: 0.6983 - loss: 0.6907 - val_accuracy: 0.4275 - val_loss: 1.1962\n",
      "Epoch 18/30\n",
      "\u001b[1m92/92\u001b[0m \u001b[32m━━━━━━━━━━━━━━━━━━━━\u001b[0m\u001b[37m\u001b[0m \u001b[1m113s\u001b[0m 1s/step - accuracy: 0.7045 - loss: 0.6670 - val_accuracy: 0.4313 - val_loss: 1.1939\n",
      "Epoch 19/30\n",
      "\u001b[1m92/92\u001b[0m \u001b[32m━━━━━━━━━━━━━━━━━━━━\u001b[0m\u001b[37m\u001b[0m \u001b[1m112s\u001b[0m 1s/step - accuracy: 0.7108 - loss: 0.6713 - val_accuracy: 0.4351 - val_loss: 1.2269\n",
      "Epoch 20/30\n",
      "\u001b[1m92/92\u001b[0m \u001b[32m━━━━━━━━━━━━━━━━━━━━\u001b[0m\u001b[37m\u001b[0m \u001b[1m113s\u001b[0m 1s/step - accuracy: 0.7269 - loss: 0.6222 - val_accuracy: 0.4275 - val_loss: 1.2580\n",
      "Epoch 21/30\n",
      "\u001b[1m92/92\u001b[0m \u001b[32m━━━━━━━━━━━━━━━━━━━━\u001b[0m\u001b[37m\u001b[0m \u001b[1m113s\u001b[0m 1s/step - accuracy: 0.7580 - loss: 0.5895 - val_accuracy: 0.4351 - val_loss: 1.2784\n",
      "Epoch 22/30\n",
      "\u001b[1m92/92\u001b[0m \u001b[32m━━━━━━━━━━━━━━━━━━━━\u001b[0m\u001b[37m\u001b[0m \u001b[1m112s\u001b[0m 1s/step - accuracy: 0.7630 - loss: 0.5702 - val_accuracy: 0.4313 - val_loss: 1.3099\n",
      "Epoch 23/30\n",
      "\u001b[1m92/92\u001b[0m \u001b[32m━━━━━━━━━━━━━━━━━━━━\u001b[0m\u001b[37m\u001b[0m \u001b[1m117s\u001b[0m 1s/step - accuracy: 0.7739 - loss: 0.5684 - val_accuracy: 0.4237 - val_loss: 1.3685\n",
      "Epoch 24/30\n",
      "\u001b[1m92/92\u001b[0m \u001b[32m━━━━━━━━━━━━━━━━━━━━\u001b[0m\u001b[37m\u001b[0m \u001b[1m112s\u001b[0m 1s/step - accuracy: 0.7834 - loss: 0.5292 - val_accuracy: 0.3893 - val_loss: 1.4128\n",
      "Epoch 25/30\n",
      "\u001b[1m92/92\u001b[0m \u001b[32m━━━━━━━━━━━━━━━━━━━━\u001b[0m\u001b[37m\u001b[0m \u001b[1m112s\u001b[0m 1s/step - accuracy: 0.7757 - loss: 0.5523 - val_accuracy: 0.4275 - val_loss: 1.4013\n",
      "Epoch 26/30\n",
      "\u001b[1m92/92\u001b[0m \u001b[32m━━━━━━━━━━━━━━━━━━━━\u001b[0m\u001b[37m\u001b[0m \u001b[1m113s\u001b[0m 1s/step - accuracy: 0.7983 - loss: 0.5168 - val_accuracy: 0.4351 - val_loss: 1.4478\n",
      "Epoch 27/30\n",
      "\u001b[1m92/92\u001b[0m \u001b[32m━━━━━━━━━━━━━━━━━━━━\u001b[0m\u001b[37m\u001b[0m \u001b[1m113s\u001b[0m 1s/step - accuracy: 0.8005 - loss: 0.4774 - val_accuracy: 0.4275 - val_loss: 1.4837\n",
      "Epoch 28/30\n",
      "\u001b[1m92/92\u001b[0m \u001b[32m━━━━━━━━━━━━━━━━━━━━\u001b[0m\u001b[37m\u001b[0m \u001b[1m113s\u001b[0m 1s/step - accuracy: 0.8190 - loss: 0.4576 - val_accuracy: 0.4313 - val_loss: 1.5090\n",
      "Epoch 29/30\n",
      "\u001b[1m92/92\u001b[0m \u001b[32m━━━━━━━━━━━━━━━━━━━━\u001b[0m\u001b[37m\u001b[0m \u001b[1m113s\u001b[0m 1s/step - accuracy: 0.8092 - loss: 0.4712 - val_accuracy: 0.4160 - val_loss: 1.5235\n",
      "Epoch 30/30\n",
      "\u001b[1m92/92\u001b[0m \u001b[32m━━━━━━━━━━━━━━━━━━━━\u001b[0m\u001b[37m\u001b[0m \u001b[1m113s\u001b[0m 1s/step - accuracy: 0.8252 - loss: 0.4261 - val_accuracy: 0.4046 - val_loss: 1.5239\n"
     ]
    }
   ],
   "source": [
    "# Unfreeze the last few layers of mobilenetv2 and recompile the model\n",
    "base_model.trainable = True\n",
    "for layer in base_model.layers[:-4]:  # Freeze all layers except the last 4\n",
    "    layer.trainable = False\n",
    "\n",
    "# Recompile the model with a lower learning rate\n",
    "model.compile(optimizer=tf.keras.optimizers.Adam(learning_rate=0.0001), \n",
    "              loss='categorical_crossentropy', \n",
    "              metrics=['accuracy'])\n",
    "\n",
    "# Fine-tune the model\n",
    "history_fine_tune = model.fit(\n",
    "    train_generator,\n",
    "    epochs=30,\n",
    "    validation_data=val_generator\n",
    ")"
   ]
  },
  {
   "cell_type": "code",
   "execution_count": 9,
   "id": "dda6a1ca-c8d1-48be-b537-e23623358546",
   "metadata": {},
   "outputs": [
    {
     "name": "stderr",
     "output_type": "stream",
     "text": [
      "WARNING:absl:You are saving your model as an HDF5 file via `model.save()` or `keras.saving.save_model(model)`. This file format is considered legacy. We recommend using instead the native Keras format, e.g. `model.save('my_model.keras')` or `keras.saving.save_model(model, 'my_model.keras')`. \n"
     ]
    }
   ],
   "source": [
    "model.save(\"skin_model_mobilenetv2_finetuned.h5\")"
   ]
  },
  {
   "cell_type": "code",
   "execution_count": 10,
   "id": "77509ff4-e37f-4986-852a-ec07bf2c63b6",
   "metadata": {},
   "outputs": [
    {
     "name": "stdout",
     "output_type": "stream",
     "text": [
      "\u001b[1m9/9\u001b[0m \u001b[32m━━━━━━━━━━━━━━━━━━━━\u001b[0m\u001b[37m\u001b[0m \u001b[1m7s\u001b[0m 755ms/step - accuracy: 0.4112 - loss: 1.4635\n",
      "Validation Loss: 1.5238927602767944\n",
      "Validation Accuracy: 0.40458014607429504\n",
      "\u001b[1m9/9\u001b[0m \u001b[32m━━━━━━━━━━━━━━━━━━━━\u001b[0m\u001b[37m\u001b[0m \u001b[1m10s\u001b[0m 927ms/step\n",
      "              precision    recall  f1-score   support\n",
      "\n",
      "           0       0.29      0.27      0.28        71\n",
      "           1       0.38      0.41      0.39       111\n",
      "           2       0.31      0.30      0.31        80\n",
      "\n",
      "    accuracy                           0.34       262\n",
      "   macro avg       0.33      0.32      0.32       262\n",
      "weighted avg       0.33      0.34      0.33       262\n",
      "\n"
     ]
    },
    {
     "data": {
      "image/png": "[encoded data removed]",
      "text/plain": [
       "<Figure size 640x480 with 2 Axes>"
      ]
     },
     "metadata": {},
     "output_type": "display_data"
    }
   ],
   "source": [
    "# Evaluate the model on the validation set\n",
    "val_loss, val_acc = model.evaluate(val_generator)\n",
    "print(f'Validation Loss: {val_loss}')\n",
    "print(f'Validation Accuracy: {val_acc}')\n",
    "\n",
    "# Predict the labels for the validation data\n",
    "y_pred = model.predict(val_generator)\n",
    "y_pred_classes = np.argmax(y_pred, axis=1)  # Get the predicted class indices\n",
    "y_true = val_generator.classes  # True labels\n",
    "\n",
    "# Classification report\n",
    "print(classification_report(y_true, y_pred_classes))\n",
    "\n",
    "# Confusion matrix\n",
    "cm = confusion_matrix(y_true, y_pred_classes)\n",
    "sns.heatmap(cm, annot=True, fmt='d', cmap='Blues', xticklabels=train_generator.class_indices.keys(), yticklabels=train_generator.class_indices.keys())\n",
    "plt.xlabel('Predicted')\n",
    "plt.ylabel('True')\n",
    "plt.title('Confusion Matrix')\n",
    "plt.show()\n"
   ]
  },
  {
   "cell_type": "code",
   "execution_count": 5,
   "id": "8abd3158-fdb7-4fe3-8b1e-40a16ce0f10f",
   "metadata": {},
   "outputs": [
    {
     "name": "stderr",
     "output_type": "stream",
     "text": [
      "WARNING:absl:Compiled the loaded model, but the compiled metrics have yet to be built. `model.compile_metrics` will be empty until you train or evaluate the model.\n"
     ]
    }
   ],
   "source": [
    "from tensorflow.keras.models import load_model\n",
    "\n",
    "# Load the saved model\n",
    "model = load_model('skin_model_mobilenetv2_finetuned.h5')  \n"
   ]
  },
  {
   "cell_type": "code",
   "execution_count": 2,
   "id": "dbdae18e-14fd-4289-98ad-b9315ff8824e",
   "metadata": {},
   "outputs": [
    {
     "name": "stdout",
     "output_type": "stream",
     "text": [
      "Found 134 images belonging to 3 classes.\n"
     ]
    },
    {
     "name": "stderr",
     "output_type": "stream",
     "text": [
      "C:\\Users\\hamad\\AppData\\Local\\Programs\\Python\\Python310\\lib\\site-packages\\keras\\src\\trainers\\data_adapters\\py_dataset_adapter.py:122: UserWarning: Your `PyDataset` class should call `super().__init__(**kwargs)` in its constructor. `**kwargs` can include `workers`, `use_multiprocessing`, `max_queue_size`. Do not pass these arguments to `fit()`, as they will be ignored.\n",
      "  self._warn_if_super_not_called()\n"
     ]
    },
    {
     "name": "stdout",
     "output_type": "stream",
     "text": [
      "\u001b[1m5/5\u001b[0m \u001b[32m━━━━━━━━━━━━━━━━━━━━\u001b[0m\u001b[37m\u001b[0m \u001b[1m7s\u001b[0m 659ms/step - accuracy: 0.4550 - loss: 1.4158\n",
      "Test Accuracy: 46.27%\n"
     ]
    }
   ],
   "source": [
    "from tensorflow.keras.preprocessing.image import ImageDataGenerator\n",
    "\n",
    "test_datagen = ImageDataGenerator(rescale=1./255)  # Apply the same preprocessing\n",
    "test_generator = test_datagen.flow_from_directory(\n",
    "    'cleaned_dataset/test', \n",
    "    target_size=(224, 224), \n",
    "    batch_size=32, \n",
    "    class_mode='categorical', \n",
    "    shuffle=False)\n",
    "\n",
    "# Evaluate model\n",
    "loss, accuracy = model.evaluate(test_generator)\n",
    "print(f'Test Accuracy: {accuracy*100:.2f}%')\n"
   ]
  },
  {
   "cell_type": "code",
   "execution_count": 6,
   "id": "fe96c27c-176f-43b0-850b-c2af93b51a88",
   "metadata": {},
   "outputs": [
    {
     "name": "stdout",
     "output_type": "stream",
     "text": [
      "\u001b[1m1/1\u001b[0m \u001b[32m━━━━━━━━━━━━━━━━━━━━\u001b[0m\u001b[37m\u001b[0m \u001b[1m3s\u001b[0m 3s/step\n",
      "Predicted Skin Type: Normal Skin (Confidence: 98.11%)\n"
     ]
    }
   ],
   "source": [
    "from tensorflow.keras.preprocessing import image\n",
    "class_labels = ['Dry Skin', 'Normal Skin', 'Oily Skin']\n",
    "\n",
    "def preprocess_image(img_path, target_size=(224, 224)):\n",
    "    img = image.load_img(img_path, target_size=target_size)\n",
    "    img_array = image.img_to_array(img)\n",
    "    img_array = np.expand_dims(img_array, axis=0)  # Expand dims for batch processing\n",
    "    img_array = img_array / 255.0  # Normalize (if done during training)\n",
    "    return img_array\n",
    "\n",
    "def predict_skin_type(img_path):\n",
    "    img_array = preprocess_image(img_path)\n",
    "    predictions = model.predict(img_array)  # Get probabilities for all classes\n",
    "    confidence = np.max(predictions)  # Highest probability value\n",
    "    predicted_class = class_labels[np.argmax(predictions)]  # Get class with highest confidence\n",
    "    \n",
    "    return predicted_class, confidence\n",
    "\n",
    "img_path = 'test.jpeg'  \n",
    "predicted_class, confidence = predict_skin_type(img_path)\n",
    "print(f'Predicted Skin Type: {predicted_class} (Confidence: {confidence*100:.2f}%)')"
   ]
  },
  {
   "cell_type": "code",
   "execution_count": 8,
   "id": "9af17503-69f6-4251-8853-430645eab2c8",
   "metadata": {},
   "outputs": [
    {
     "name": "stdout",
     "output_type": "stream",
     "text": [
      "\u001b[1m1/1\u001b[0m \u001b[32m━━━━━━━━━━━━━━━━━━━━\u001b[0m\u001b[37m\u001b[0m \u001b[1m0s\u001b[0m 111ms/step\n",
      "Predicted Skin Type: Oily Skin (Confidence: 99.89%)\n"
     ]
    }
   ],
   "source": [
    "img_path = 'test2.jpg'\n",
    "predicted_class, confidence = predict_skin_type(img_path)\n",
    "print(f'Predicted Skin Type: {predicted_class} (Confidence: {confidence*100:.2f}%)')"
   ]
  },
  {
   "cell_type": "code",
   "execution_count": 9,
   "id": "52338897-fab1-4155-a058-9d577edb22b1",
   "metadata": {},
   "outputs": [
    {
     "name": "stdout",
     "output_type": "stream",
     "text": [
      "\u001b[1m1/1\u001b[0m \u001b[32m━━━━━━━━━━━━━━━━━━━━\u001b[0m\u001b[37m\u001b[0m \u001b[1m0s\u001b[0m 130ms/step\n",
      "Predicted Skin Type: Dry Skin (Confidence: 98.11%)\n"
     ]
    }
   ],
   "source": [
    "img_path = 'test3.jpg'\n",
    "predicted_class, confidence = predict_skin_type(img_path)\n",
    "print(f'Predicted Skin Type: {predicted_class} (Confidence: {confidence*100:.2f}%)')"
   ]
  },
  {
   "cell_type": "code",
   "execution_count": 7,
   "id": "c709f1a3-2135-407c-9846-069f0b5adae1",
   "metadata": {},
   "outputs": [
    {
     "name": "stdout",
     "output_type": "stream",
     "text": [
      "\u001b[1m1/1\u001b[0m \u001b[32m━━━━━━━━━━━━━━━━━━━━\u001b[0m\u001b[37m\u001b[0m \u001b[1m0s\u001b[0m 201ms/step\n",
      "Predicted Skin Type: Normal Skin (Confidence: 66.14%)\n"
     ]
    }
   ],
   "source": [
    "img_path = 'test4.jpeg'\n",
    "predicted_class, confidence = predict_skin_type(img_path)\n",
    "print(f'Predicted Skin Type: {predicted_class} (Confidence: {confidence*100:.2f}%)')"
   ]
  },
  {
   "cell_type": "code",
   "execution_count": null,
   "id": "34b2a6c7-d0fe-43f6-9ea6-65f213b9a46b",
   "metadata": {},
   "outputs": [],
   "source": []
  }
 ],
 "metadata": {
  "kernelspec": {
   "display_name": "Python 3 (ipykernel)",
   "language": "python",
   "name": "python3"
  },
  "language_info": {
   "codemirror_mode": {
    "name": "ipython",
    "version": 3
   },
   "file_extension": ".py",
   "mimetype": "text/x-python",
   "name": "python",
   "nbconvert_exporter": "python",
   "pygments_lexer": "ipython3",
   "version": "3.10.8"
  }
 },
 "nbformat": 4,
 "nbformat_minor": 5
}
